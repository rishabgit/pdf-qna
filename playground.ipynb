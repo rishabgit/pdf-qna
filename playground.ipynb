{
 "cells": [
  {
   "cell_type": "code",
   "execution_count": null,
   "metadata": {},
   "outputs": [],
   "source": [
    "from src.main import run\n",
    "\n",
    "documents = run(\"data/The-Emperors-New-Clothes.pdf\", eval=True)"
   ]
  },
  {
   "cell_type": "code",
   "execution_count": 2,
   "metadata": {},
   "outputs": [
    {
     "data": {
      "text/plain": [
       "[{'text': 'The Emperor’s New Clothes Once upon a time, there was an Emperor who  adored having new clothes.  He had lots of  different outfits but he always wanted more. One day, two strangers came to the palace. They  told the Emperor they could make him some new,  beautiful clothes.  Working hard for weeks, the two  strangers created clothes for the  Emperor in secret. The Emperor was  cross because he wanted to see his  new clothes.  One of the strangers showed him the new clothes, saying, “Don’t  you think they are splendid?”  The Emperor was confused because  he could not see anything. The other stranger told the Emperor  that the clothes were very special. He said that the clothes were  too fine to be seen by foolish people.  The Emperor did not want to appear foolish so he told the men  that the clothes were beautiful. The men asked for more money  from the Emperor so that the clothes could be ready for the  parade. The Emperor agreed to pay them. On the day of the parade, the Emperor was given  his new clothes. The palace staff knew that the  clothes could not be seen by foolish people and so  told the Emperor he looked magnificent. At the parade, crowds gathered to see the Emperor  and his new clothes. They all commented on his  lovely outfit. Then a boy shouted, “ The Emperor  has no clothes on!”  All the people agreed with him  and laughed. The Emperor blushed but carried on.  He did not want to admit that he had been fooled. ',\n",
       "  'sentences': ['The Emperor’s New Clothes Once upon a time, there was an Emperor who  adored having new clothes.',\n",
       "   'He had lots of  different outfits but he always wanted more.',\n",
       "   'One day, two strangers came to the palace.',\n",
       "   'They  told the Emperor they could make him some new,  beautiful clothes.',\n",
       "   'Working hard for weeks, the two  strangers created clothes for the  Emperor in secret.',\n",
       "   'The Emperor was  cross because he wanted to see his  new clothes.',\n",
       "   'One of the strangers showed him the new clothes, saying, “Don’t  you think they are splendid?”  The Emperor was confused because  he could not see anything.',\n",
       "   'The other stranger told the Emperor  that the clothes were very special.',\n",
       "   'He said that the clothes were  too fine to be seen by foolish people.',\n",
       "   'The Emperor did not want to appear foolish so he told the men  that the clothes were beautiful.',\n",
       "   'The men asked for more money  from the Emperor so that the clothes could be ready for the  parade.',\n",
       "   'The Emperor agreed to pay them.',\n",
       "   'On the day of the parade, the Emperor was given  his new clothes.',\n",
       "   'The palace staff knew that the  clothes could not be seen by foolish people and so  told the Emperor he looked magnificent.',\n",
       "   'At the parade, crowds gathered to see the Emperor  and his new clothes.',\n",
       "   'They all commented on his  lovely outfit.',\n",
       "   'Then a boy shouted, “ The Emperor  has no clothes on!”  All the people agreed with him  and laughed.',\n",
       "   'The Emperor blushed but carried on.',\n",
       "   'He did not want to admit that he had been fooled.'],\n",
       "  'page_number': 1,\n",
       "  'qa_pairs': [{'question': 'Who adored having new clothes?',\n",
       "    'answer': 'The Emperor',\n",
       "    'quotes': ['Once upon a time, there was an Emperor who  adored having new clothes.'],\n",
       "    'evals': {'score_response_completeness_wrt_context': 0.0,\n",
       "     'explanation_response_completeness_wrt_context': '{\\n    \"Reasoning\": \"The given response does not incorporate any relevant information present in the context. The response only mentions \\'The Emperor\\' without providing any details about his adoration for new clothes or the events surrounding his desire for new clothes. The response lacks crucial information from the context to answer the question accurately.\",\\n    \"Choice\": \"C\"\\n}',\n",
       "     'score_critique_tone': 1.0,\n",
       "     'explanation_critique_tone': '{\\n    \"Reasoning\": \"The response provided, \\'The Emperor,\\' is a precise and factual answer without any extraneous or informal content, which aligns perfectly with the specified persona of responding with precise, factual answers.\",\\n    \"Choice\": \"A\"\\n}',\n",
       "     'score_factual_accuracy': 1.0,\n",
       "     'explanation_factual_accuracy': '{\\n    \"Result\": [\\n        {\\n            \"Fact\": \"1. The Emperor adored having new clothes.\",\\n            \"Reasoning\": \"The context explicitly states that there was an Emperor who adored having new clothes. Hence, the fact can be verified by the context.\",\\n            \"Judgement\": \"yes\"\\n        }\\n    ]\\n}',\n",
       "     'score_critique_language': 0.5,\n",
       "     'explanation_critique_language': '{\\n    \"Reasoning\": \"The response is incomplete and lacks context, making it difficult to assess the language quality.\",\\n    \"Choice\": \"B\"\\n}'}}]}]"
      ]
     },
     "execution_count": 2,
     "metadata": {},
     "output_type": "execute_result"
    }
   ],
   "source": [
    "documents"
   ]
  },
  {
   "cell_type": "code",
   "execution_count": 3,
   "metadata": {},
   "outputs": [
    {
     "data": {
      "text/plain": [
       "[{'question': 'Who adored having new clothes?',\n",
       "  'answer': 'The Emperor',\n",
       "  'quotes': ['Once upon a time, there was an Emperor who  adored having new clothes.'],\n",
       "  'evals': {'score_response_completeness_wrt_context': 0.0,\n",
       "   'explanation_response_completeness_wrt_context': '{\\n    \"Reasoning\": \"The given response does not incorporate any relevant information present in the context. The response only mentions \\'The Emperor\\' without providing any details about his adoration for new clothes or the events surrounding his desire for new clothes. The response lacks crucial information from the context to answer the question accurately.\",\\n    \"Choice\": \"C\"\\n}',\n",
       "   'score_critique_tone': 1.0,\n",
       "   'explanation_critique_tone': '{\\n    \"Reasoning\": \"The response provided, \\'The Emperor,\\' is a precise and factual answer without any extraneous or informal content, which aligns perfectly with the specified persona of responding with precise, factual answers.\",\\n    \"Choice\": \"A\"\\n}',\n",
       "   'score_factual_accuracy': 1.0,\n",
       "   'explanation_factual_accuracy': '{\\n    \"Result\": [\\n        {\\n            \"Fact\": \"1. The Emperor adored having new clothes.\",\\n            \"Reasoning\": \"The context explicitly states that there was an Emperor who adored having new clothes. Hence, the fact can be verified by the context.\",\\n            \"Judgement\": \"yes\"\\n        }\\n    ]\\n}',\n",
       "   'score_critique_language': 0.5,\n",
       "   'explanation_critique_language': '{\\n    \"Reasoning\": \"The response is incomplete and lacks context, making it difficult to assess the language quality.\",\\n    \"Choice\": \"B\"\\n}'}}]"
      ]
     },
     "execution_count": 3,
     "metadata": {},
     "output_type": "execute_result"
    }
   ],
   "source": [
    "documents[0]['qa_pairs']"
   ]
  },
  {
   "cell_type": "code",
   "execution_count": null,
   "metadata": {},
   "outputs": [],
   "source": []
  }
 ],
 "metadata": {
  "kernelspec": {
   "display_name": "venv",
   "language": "python",
   "name": "python3"
  },
  "language_info": {
   "codemirror_mode": {
    "name": "ipython",
    "version": 3
   },
   "file_extension": ".py",
   "mimetype": "text/x-python",
   "name": "python",
   "nbconvert_exporter": "python",
   "pygments_lexer": "ipython3",
   "version": "3.10.13"
  }
 },
 "nbformat": 4,
 "nbformat_minor": 2
}
